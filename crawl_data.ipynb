{
 "cells": [
  {
   "cell_type": "code",
   "id": "initial_id",
   "metadata": {
    "collapsed": true,
    "ExecuteTime": {
     "end_time": "2024-09-07T16:14:47.555585Z",
     "start_time": "2024-09-07T16:14:47.550585Z"
    }
   },
   "source": [
    "import requests\n",
    "from bs4 import BeautifulSoup"
   ],
   "outputs": [],
   "execution_count": 105
  },
  {
   "metadata": {
    "ExecuteTime": {
     "end_time": "2024-09-07T16:14:47.573185Z",
     "start_time": "2024-09-07T16:14:47.567745Z"
    }
   },
   "cell_type": "code",
   "source": [
    "def check_page_not_found(soup):\n",
    "    return soup.find(class_='ah_404') is not None"
   ],
   "id": "187835e37cd08f0a",
   "outputs": [],
   "execution_count": 106
  },
  {
   "metadata": {
    "ExecuteTime": {
     "end_time": "2024-09-07T16:14:47.633259Z",
     "start_time": "2024-09-07T16:14:47.619210Z"
    }
   },
   "cell_type": "code",
   "source": [
    "def fetch_soup(url):\n",
    "    try: \n",
    "        response = requests.get(url)\n",
    "        response.raise_for_status()\n",
    "        page_soup = BeautifulSoup(response.content, 'html.parser')\n",
    "        \n",
    "        if check_page_not_found(page_soup):\n",
    "            print('Fail - Page Not Found 404')\n",
    "            return None\n",
    "        \n",
    "        print('Success')\n",
    "        return page_soup\n",
    "    except requests.exceptions.RequestException as e:\n",
    "        print(f\"Request failed: {e}\")\n",
    "        return None"
   ],
   "id": "d03f493de1b45cc2",
   "outputs": [],
   "execution_count": 107
  },
  {
   "metadata": {
    "ExecuteTime": {
     "end_time": "2024-09-07T16:14:47.686678Z",
     "start_time": "2024-09-07T16:14:47.678721Z"
    }
   },
   "cell_type": "code",
   "source": [
    "def save_soup(soup, file_name):\n",
    "    with open(file_name + '.html', 'w', encoding='utf-8') as f:\n",
    "        f.write(str(soup))"
   ],
   "id": "f244e5bd3b75617a",
   "outputs": [],
   "execution_count": 108
  },
  {
   "metadata": {
    "ExecuteTime": {
     "end_time": "2024-09-07T16:14:47.736979Z",
     "start_time": "2024-09-07T16:14:47.727759Z"
    }
   },
   "cell_type": "code",
   "source": [
    "def fetch_movie_title(soup):\n",
    "    title = soup.find('h1', {\"class\": \"heading_movie\"}).text if soup.find('h1', {\"class\": \"heading_movie\"}) else 'N/A'\n",
    "    return title"
   ],
   "id": "fffe1ed28b3a68bc",
   "outputs": [],
   "execution_count": 109
  },
  {
   "metadata": {
    "ExecuteTime": {
     "end_time": "2024-09-07T16:14:47.793006Z",
     "start_time": "2024-09-07T16:14:47.786994Z"
    }
   },
   "cell_type": "code",
   "source": [
    "def fetch_movie_genre(soup):\n",
    "    genre = soup.find('div', {\"class\": \"list_cate\"}).text if soup.find('div', {\"class\": \"list_cate\"}) else 'N/A'\n",
    "    genre_list = genre.splitlines()\n",
    "    clean_genre_list = [g.strip() for g in genre_list if len(g.strip()) > 0][1:]\n",
    "    return clean_genre_list"
   ],
   "id": "85cef0fc347641d",
   "outputs": [],
   "execution_count": 110
  },
  {
   "metadata": {
    "ExecuteTime": {
     "end_time": "2024-09-07T16:14:47.844508Z",
     "start_time": "2024-09-07T16:14:47.838657Z"
    }
   },
   "cell_type": "code",
   "source": [
    "def fetch_movie_rating(soup):\n",
    "    rating = soup.find('div', {\"class\": \"score\"}).text if soup.find('div', {\"class\": \"score\"}) else 'N/A'\n",
    "    if rating != 'N/A':\n",
    "        rating_parts = rating.split()\n",
    "        if len(rating_parts) >= 4:\n",
    "            return [rating_parts[1], rating_parts[3]]\n",
    "        else:\n",
    "            return 'Invalid rating format'\n",
    "    else:\n",
    "        return rating"
   ],
   "id": "bb48bd1419e271dd",
   "outputs": [],
   "execution_count": 111
  },
  {
   "metadata": {
    "ExecuteTime": {
     "end_time": "2024-09-07T16:14:47.920769Z",
     "start_time": "2024-09-07T16:14:47.915599Z"
    }
   },
   "cell_type": "code",
   "source": [
    "def fetch_movie_information(soup):\n",
    "    title = fetch_movie_title(soup)\n",
    "    genre = fetch_movie_genre(soup)\n",
    "    rating = fetch_movie_rating(soup)\n",
    "    movie = {\n",
    "        'title': title,\n",
    "        'genre': genre,\n",
    "        'rating': rating\n",
    "    }\n",
    "    \n",
    "    return movie"
   ],
   "id": "48f7f34935e3a486",
   "outputs": [],
   "execution_count": 112
  },
  {
   "metadata": {
    "ExecuteTime": {
     "end_time": "2024-09-07T16:14:47.968393Z",
     "start_time": "2024-09-07T16:14:47.962716Z"
    }
   },
   "cell_type": "code",
   "source": [
    "def fetch_pages(start_page = 1, end_page = 3):\n",
    "    current_page = start_page\n",
    "    film_list = []\n",
    "    while current_page <= end_page:\n",
    "        url = f\"https://animehay.biz/the-loai/anime-{current_page}.html\"\n",
    "        print(f\"Processing on page: \", url)\n",
    "        \n",
    "        soup = fetch_soup(url)\n",
    "        if soup is None:\n",
    "            break\n",
    "            \n",
    "        film_list.append(soup)\n",
    "        current_page += 1\n",
    "        print('\\t----------\\t----------\\t---------\\t----------\\t----------\\t---------')\n",
    "        \n",
    "    return film_list"
   ],
   "id": "ce4530b8628a5ab8",
   "outputs": [],
   "execution_count": 113
  },
  {
   "metadata": {
    "ExecuteTime": {
     "end_time": "2024-09-07T16:14:50.424445Z",
     "start_time": "2024-09-07T16:14:48.021534Z"
    }
   },
   "cell_type": "code",
   "source": "all_soups = fetch_pages()",
   "id": "5f877864ea76c47f",
   "outputs": [
    {
     "name": "stdout",
     "output_type": "stream",
     "text": [
      "Processing on page:  https://animehay.biz/the-loai/anime-1.html\n",
      "Success\n",
      "\t----------\t----------\t---------\t----------\t----------\t---------\n",
      "Processing on page:  https://animehay.biz/the-loai/anime-2.html\n",
      "Success\n",
      "\t----------\t----------\t---------\t----------\t----------\t---------\n",
      "Processing on page:  https://animehay.biz/the-loai/anime-3.html\n",
      "Success\n",
      "\t----------\t----------\t---------\t----------\t----------\t---------\n"
     ]
    }
   ],
   "execution_count": 114
  },
  {
   "metadata": {
    "ExecuteTime": {
     "end_time": "2024-09-07T16:14:50.493460Z",
     "start_time": "2024-09-07T16:14:50.487635Z"
    }
   },
   "cell_type": "code",
   "source": [
    "def get_all_movies_link(soup):\n",
    "    links = soup.find_all('a', href = True)\n",
    "    specific_links = [link['href'] for link in links if \"thong-tin-phim\" in link['href']]\n",
    "    return specific_links"
   ],
   "id": "3bb60864b00f432b",
   "outputs": [],
   "execution_count": 115
  }
 ],
 "metadata": {
  "kernelspec": {
   "display_name": "Python 3",
   "language": "python",
   "name": "python3"
  },
  "language_info": {
   "codemirror_mode": {
    "name": "ipython",
    "version": 2
   },
   "file_extension": ".py",
   "mimetype": "text/x-python",
   "name": "python",
   "nbconvert_exporter": "python",
   "pygments_lexer": "ipython2",
   "version": "2.7.6"
  }
 },
 "nbformat": 4,
 "nbformat_minor": 5
}
