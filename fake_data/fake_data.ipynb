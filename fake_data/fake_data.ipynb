{
 "cells": [
  {
   "cell_type": "markdown",
   "metadata": {},
   "source": [
    "Get list of genres"
   ]
  },
  {
   "cell_type": "code",
   "execution_count": 1,
   "metadata": {},
   "outputs": [
    {
     "data": {
      "text/plain": [
       "array(['Anime', 'Tình cảm', 'Giả tưởng', 'Lịch sử', 'Phiêu lưu',\n",
       "       'Thể thao', 'Hài hước', 'Seinen', 'Hành động', 'Siêu năng lực',\n",
       "       'Bí ẩn', 'Siêu nhiên', 'Ma cà rồng', 'Siêu năng lực', 'Drama',\n",
       "       'Đời thường', 'Drama', 'Học đường', 'Phiêu lưu', 'Samurai',\n",
       "       'Đời thường', 'Dị giới', 'Harem', 'Siêu nhiên', 'Shounen',\n",
       "       'Học đường', 'Tình cảm', 'Shounen', 'Ecchi', 'Viễn tưởng',\n",
       "       'Hành động', 'Xuyên không', 'Võ thuật', 'Thám tử', 'CN Animation',\n",
       "       'Huyền ảo', 'Quân đội', 'Giả tưởng', 'Shoujo', 'Bí ẩn', 'Dị giới',\n",
       "       'Harem', 'Kinh dị', 'Seinen', 'CN Animation', 'Trò chơi',\n",
       "       'Psychological', 'Kinh dị', 'Psychological', 'Thriller', 'Bi kịch',\n",
       "       'Quân đội', 'Viễn tưởng', 'Bi kịch', 'Shoujo', 'Âm nhạc', 'Mecha',\n",
       "       'Ecchi', 'Khoa huyễn', 'Âm nhạc', 'Âm nhạc', 'Anime', 'Giả tưởng',\n",
       "       'CNA Hài hước', 'Võ thuật', 'Võ thuật', 'Kiếm hiệp', 'Demon',\n",
       "       'Demon', 'Trò chơi', 'Trò chơi', 'Mecha', 'Thám tử', 'Shounen AI',\n",
       "       'Lịch sử', 'Võ hiệp', 'Lịch sử', 'Ma cà rồng', 'Học đường',\n",
       "       'Shounen AI', 'Hài hước', 'Shoujo AI', 'Anime', 'Tình cảm',\n",
       "       'Shoujo AI', 'Thể thao', 'Thriller', 'Drama', 'Siêu nhiên',\n",
       "       'Tokusatsu', 'Tokusatsu', 'Tokusatsu', 'Samurai', 'CN Animation',\n",
       "       'Tiên hiệp', 'Xuyên không', 'Trùng sinh', 'Huyền ảo', 'Trùng sinh',\n",
       "       'Kiếm hiệp', 'CN Animation', 'Huyền ảo', 'Tiên hiệp', 'Tiên hiệp',\n",
       "       'Võ hiệp', 'Khoa huyễn', 'CNA Hài hước', 'CNA Ngôn tình',\n",
       "       'Xuyên không', 'Đam mỹ', 'CNA Ngôn tình', 'CNA Ngôn tình',\n",
       "       'CNA Hài hước', 'Demon', 'Live Action', 'Live Action',\n",
       "       'Ma cà rồng'], dtype=object)"
      ]
     },
     "execution_count": 1,
     "metadata": {},
     "output_type": "execute_result"
    }
   ],
   "source": [
    "import pandas as pd\n",
    "data = pd.read_csv(\"movies_data.csv\")\n",
    "data['genre'] = data['genre'].str.split(',')\n",
    "genre_list = data[\"genre\"].explode().unique()\n",
    "for i in range(len(genre_list)):\n",
    "    genre_list[i] = genre_list[i].replace(\"'\", \"\").replace(\"[\", \"\").replace(\"]\", \"\").strip()\n",
    "genre_list"
   ]
  },
  {
   "cell_type": "code",
   "execution_count": 2,
   "metadata": {},
   "outputs": [],
   "source": [
    "import random\n",
    "from faker import Faker\n",
    "genre_option = list(genre_list)\n",
    "status_options = [\"Hoàn thành\", \"Đang tiến hành\"]\n",
    "fake = Faker('vi_VN')\n",
    "def generate_fake_anime(num):\n",
    "    movie_list = []\n",
    "    for i in range(1, num + 1 ) :\n",
    "        movie = {\n",
    "            \"anime_id\": i,\n",
    "            \"title\" :fake.catch_phrase() ,\n",
    "            \"genre\" : random.sample(genre_option, 3),\n",
    "            \"status\": random.choice(status_options),\n",
    "            \"eposides\": random.choice(range(0,300)),\n",
    "            \"realese_year\": random.randint(1995, 2024),\n",
    "            \"description\": fake.text(max_nb_chars=200)\n",
    "        }\n",
    "        movie_list.append(movie)\n",
    "    return movie_list"
   ]
  },
  {
   "cell_type": "code",
   "execution_count": 3,
   "metadata": {},
   "outputs": [
    {
     "name": "stdout",
     "output_type": "stream",
     "text": [
      "{'anime_id': 1, 'title': 'Ameliorated uniform methodology', 'genre': ['Samurai', 'Mecha', 'Drama'], 'status': 'Hoàn thành', 'eposides': 104, 'realese_year': 1998, 'description': 'Đang cách cũng một được này. Hơn bạn với vài để sẽ tại. Sau sẽ thế nhưng thay với.\\nGiống bên như được. Mà từ chưa như và như tôi. Nếu sẽ cũng về này lớn.'}\n",
      "{'anime_id': 2, 'title': 'Networked background portal', 'genre': ['Hành động', 'Siêu năng lực', 'Dị giới'], 'status': 'Hoàn thành', 'eposides': 142, 'realese_year': 2021, 'description': 'Rất chưa vài từ hoặc khiến. Chỉ nào đã hơn tại để.\\nVà giữa tại cho khi. Từng gần có. Điều chỉ các là cho sẽ có.'}\n",
      "{'anime_id': 3, 'title': 'Vision-oriented global function', 'genre': ['Seinen', 'Viễn tưởng', 'Thám tử'], 'status': 'Đang tiến hành', 'eposides': 156, 'realese_year': 2004, 'description': 'Hơn nếu nhưng vì các của nhưng. Tự cách hoặc thế cũng tự. Đó bên về giống thay.\\nĐã tôi nhưng đó.\\nCủa sẽ đúng dưới gần cũng. Tại mỗi mà đến gần đi. Vậy của khiến bên.\\nLàm nếu dưới vì để này sẽ.'}\n",
      "{'anime_id': 4, 'title': 'Multi-layered context-sensitive task-force', 'genre': ['Hành động', 'Anime', 'Giả tưởng'], 'status': 'Đang tiến hành', 'eposides': 224, 'realese_year': 1997, 'description': 'Đến như này như trong thế gần. Vài nếu vì nhiều.\\nTheo vẫn hơn đi cho. Như là thế thì để cũng. Đến số từ người lớn người.\\nLớn khiến đó tự gần. Nhiều như như nếu. Từ dưới các vài.'}\n",
      "{'anime_id': 5, 'title': 'Triple-buffered well-modulated structure', 'genre': ['Mecha', 'Tokusatsu', 'Âm nhạc'], 'status': 'Đang tiến hành', 'eposides': 53, 'realese_year': 1995, 'description': 'Thế có đang trong. Của từ khi như.\\nVậy khi theo khi gần. Các các vài cũng nào cách giống. Mỗi trong làm rất thế và với.'}\n",
      "{'anime_id': 6, 'title': 'Multi-tiered intangible support', 'genre': ['Drama', 'Shounen AI', 'Viễn tưởng'], 'status': 'Hoàn thành', 'eposides': 118, 'realese_year': 2014, 'description': 'Dưới như từ nếu người về làm. Đi chỉ vì.\\nLàm bên đến đi thì người. Người lớn chưa được bạn đã. Hơn vẫn như thì từ vậy một.\\nThay theo với từ đến đi nếu vậy.'}\n",
      "{'anime_id': 7, 'title': 'Programmable bandwidth-monitored budgetary management', 'genre': ['CNA Hài hước', 'Kinh dị', 'Siêu nhiên'], 'status': 'Hoàn thành', 'eposides': 236, 'realese_year': 2000, 'description': 'Mà khiến cũng. Hoặc rất nào nhưng.\\nGần có nhưng tôi cũng. Số sẽ như như tại như. Để cho như cũng.\\nMà vậy trong cho cái của. Giữa trong thay như làm.'}\n",
      "{'anime_id': 8, 'title': 'Seamless interactive application', 'genre': ['Ma cà rồng', 'Tokusatsu', 'CN Animation'], 'status': 'Hoàn thành', 'eposides': 230, 'realese_year': 2004, 'description': 'Giống bên để mà dưới đó về. Này đi từng cho cũng và của. Nếu để là giữa theo đó.\\nHoặc bên được cho giữa sẽ như của. Số để từng mà vì khi khi.'}\n",
      "{'anime_id': 9, 'title': 'Monitored intermediate conglomeration', 'genre': ['Trò chơi', 'Siêu nhiên', 'Siêu nhiên'], 'status': 'Hoàn thành', 'eposides': 27, 'realese_year': 2009, 'description': 'Dưới nơi này.\\nMột của cái khi. Này để của này hơn.\\nTừ gần để đang lớn sẽ đến. Thì đi vẫn không sẽ.\\nVì về khi chưa của vài như. Chỉ dưới tại nhiều của các.\\nMột hoặc không vẫn dưới của. Đã giữa cũng.'}\n",
      "{'anime_id': 10, 'title': 'Secured background hardware', 'genre': ['Thám tử', 'CN Animation', 'Tình cảm'], 'status': 'Đang tiến hành', 'eposides': 55, 'realese_year': 1999, 'description': 'Sau với đang sau có được giống. Về vẫn đến rất để đang cũng. Có như của từ và.\\nLà thay về thì. Đi và các từng cũng. Rất và và không.'}\n",
      "{'anime_id': 11, 'title': 'Decentralized optimizing leverage', 'genre': ['CNA Hài hước', 'Demon', 'CNA Ngôn tình'], 'status': 'Hoàn thành', 'eposides': 203, 'realese_year': 2005, 'description': 'Được hơn hoặc với hơn. Vậy với giống cũng. Dưới bạn về cái này vì bạn.\\nNhư vẫn để nào vậy. Và thay để đó.\\nNhư dưới khiến và. Là là giống của nếu để thế. Được tự nhiều.'}\n",
      "{'anime_id': 12, 'title': 'Cross-platform foreground frame', 'genre': ['Siêu nhiên', 'Mecha', 'Kinh dị'], 'status': 'Hoàn thành', 'eposides': 221, 'realese_year': 2009, 'description': 'Đã bên và trong. Tại với được một này với giống tôi. Tại sẽ hơn với nếu giống cũng. Cái sẽ được hơn tại này từ.'}\n",
      "{'anime_id': 13, 'title': 'Inverse 4thgeneration open system', 'genre': ['Shoujo AI', 'Thám tử', 'Seinen'], 'status': 'Đang tiến hành', 'eposides': 102, 'realese_year': 2006, 'description': 'Dưới tôi chưa của cũng hơn.\\nCho các điều các giữa.\\nNếu nếu thay đi. Làm các như theo theo bạn. Nếu mà cách trong cũng cho.'}\n",
      "{'anime_id': 14, 'title': 'Mandatory value-added database', 'genre': ['Dị giới', 'Xuyên không', 'Anime'], 'status': 'Đang tiến hành', 'eposides': 263, 'realese_year': 2001, 'description': 'Để làm thay vì cũng.\\nNhiều từng thế. Nhiều nào bên thế. Và tại làm từ này nhiều có. Người của chỉ sẽ hơn chỉ nhiều.\\nCủa khiến đó và khi của vì. Để tự rất đến như.'}\n",
      "{'anime_id': 15, 'title': 'Future-proofed cohesive methodology', 'genre': ['Học đường', 'Giả tưởng', 'Seinen'], 'status': 'Hoàn thành', 'eposides': 259, 'realese_year': 2021, 'description': 'Trong với giữa đó cũng. Nơi người là như.\\nHơn hơn không thay nào thế để. Nhưng cái có để đang này các. Thì nơi trong được vẫn gần với.\\nMà như từ cũng hơn từ từ. Bạn nơi nếu của như như về đã.'}\n",
      "{'anime_id': 16, 'title': 'Robust actuating projection', 'genre': ['Siêu nhiên', 'Demon', 'Hành động'], 'status': 'Hoàn thành', 'eposides': 15, 'realese_year': 1995, 'description': 'Khi làm làm chưa cũng hơn. Nào tại nơi số từng vì số.\\nĐiều để cách bên. Một về đến đến một người có. Bạn giữa tự hơn giữa cách hơn. Khiến số chưa bạn tại cái thế.'}\n",
      "{'anime_id': 17, 'title': 'Object-based bottom-line moderator', 'genre': ['Bí ẩn', 'Tình cảm', 'Thriller'], 'status': 'Đang tiến hành', 'eposides': 67, 'realese_year': 2022, 'description': 'Mỗi vì trong và như của. Hoặc khiến với nhưng điều rất. Giữa giống chưa tại.\\nCái từng giữa từ giống tôi vậy như. Dưới nơi đó. Lớn sau cũng đã.'}\n",
      "{'anime_id': 18, 'title': 'Reduced full-range emulation', 'genre': ['Đam mỹ', 'Thám tử', 'Võ hiệp'], 'status': 'Đang tiến hành', 'eposides': 21, 'realese_year': 1996, 'description': 'Hơn của vẫn hoặc. Như rất này để nơi. Vì lớn giống đó cho.\\nVài nhưng rất như trong được để.\\nThay với sẽ để sau. Vì cũng vì hơn như. Dưới tôi hoặc thế vài.'}\n",
      "{'anime_id': 19, 'title': 'Cloned intangible database', 'genre': ['Thriller', 'Kiếm hiệp', 'Shounen'], 'status': 'Hoàn thành', 'eposides': 4, 'realese_year': 1996, 'description': 'Có hơn nơi. Mỗi bạn sau với đã đi từng.\\nNhưng không nào hơn có. Lớn cái vì mỗi với. Tại theo đang.\\nCũng để để trong. Thế đó bên như tự gần số. Đúng sau và một có bạn giống.'}\n",
      "{'anime_id': 20, 'title': 'Fundamental context-sensitive capability', 'genre': ['Siêu nhiên', 'Kiếm hiệp', 'CN Animation'], 'status': 'Đang tiến hành', 'eposides': 295, 'realese_year': 2010, 'description': 'Của để là như mỗi. Nhiều là cách khi như đúng.\\nKhông để là của tại giữa. Gần hơn khi đi đi đúng. Khiến cho thì cách sau được đang.'}\n",
      "{'anime_id': 21, 'title': 'Grass-roots impactful projection', 'genre': ['Trùng sinh', 'Siêu năng lực', 'Huyền ảo'], 'status': 'Đang tiến hành', 'eposides': 222, 'realese_year': 2009, 'description': 'Của vậy của làm từ đã. Đúng các cái tại gần tự.\\nTừ để khi nếu của được hơn thì. Đi từng hoặc của không nào cái.\\nĐể người tự thế. Người chỉ từ trong đúng về về. Sau bên lớn như nhưng.'}\n",
      "{'anime_id': 22, 'title': 'Reverse-engineered full-range initiative', 'genre': ['Tiên hiệp', 'Mecha', 'Tình cảm'], 'status': 'Hoàn thành', 'eposides': 117, 'realese_year': 2002, 'description': 'Khiến mà đã nhiều. Đúng vì mà điều.\\nHoặc mỗi nơi gần tại trong tự nhiều. Cái thế đó không người như. Như hoặc để với lớn.\\nĐang để hơn đi cho. Như nơi nhiều đó tại với đi.'}\n",
      "{'anime_id': 23, 'title': 'Fundamental coherent groupware', 'genre': ['Siêu nhiên', 'Shounen', 'Psychological'], 'status': 'Đang tiến hành', 'eposides': 97, 'realese_year': 2016, 'description': 'Từ giữa bên từ gần mà từ. Khiến như với.\\nĐể vậy tại để. Cách đang mà giữa được dưới chưa.\\nĐang mà vậy tôi sau giữa. Nơi về nhiều bên. Thì số thì số nào.'}\n",
      "{'anime_id': 24, 'title': 'Programmable systemic array', 'genre': ['Shounen AI', 'Kiếm hiệp', 'Tình cảm'], 'status': 'Đang tiến hành', 'eposides': 151, 'realese_year': 2003, 'description': 'Của gần như tự để từ. Với của nơi như hơn. Là từ của chỉ đi tự sau.\\nThay trong của với của điều chỉ nơi. Hoặc đúng vì số người chưa. Sẽ như trong.\\nCái đó để để. Này không thay. Trong cũng nếu.'}\n",
      "{'anime_id': 25, 'title': 'Public-key fault-tolerant frame', 'genre': ['Siêu nhiên', 'Psychological', 'CNA Hài hước'], 'status': 'Đang tiến hành', 'eposides': 198, 'realese_year': 1998, 'description': 'Dưới nhưng có. Để nơi từ từng bên. Cho với thay có như tự bạn.\\nTại khi có đi.\\nNgười có hoặc rất. Vậy cách từ số thế.\\nĐúng người mà đi để cách đi của. Từ cũng chưa khiến đã.'}\n",
      "{'anime_id': 26, 'title': 'Self-enabling next generation portal', 'genre': ['Âm nhạc', 'Viễn tưởng', 'Dị giới'], 'status': 'Hoàn thành', 'eposides': 82, 'realese_year': 2020, 'description': 'Này để bạn nhiều với với từ. Từ như đến cái. Nhưng như thế.\\nMà có trong vậy khiến với đã chưa. Thay vì này cũng với thế cho. Giữa vài đã lớn.'}\n",
      "{'anime_id': 27, 'title': 'Profound coherent support', 'genre': ['Dị giới', 'Hài hước', 'Demon'], 'status': 'Đang tiến hành', 'eposides': 220, 'realese_year': 1999, 'description': 'Từng các bạn khi có chỉ. Của không đang làm đến. Tự đã bạn tôi có.\\nCũng có cũng vì nhiều. Để một giống nhưng như bên như. Với rất nào thế nếu của để.'}\n",
      "{'anime_id': 28, 'title': 'Inverse encompassing superstructure', 'genre': ['Ma cà rồng', 'Võ hiệp', 'Huyền ảo'], 'status': 'Đang tiến hành', 'eposides': 253, 'realese_year': 2019, 'description': 'Cho đi vì theo tại. Chỉ cho chưa vậy sau. Mà hoặc các lớn một. Như vẫn sẽ cái.\\nLớn tại của. Nào để thay vài hơn.\\nTừ này rất. Vậy một thì. Và như tự số với khi.'}\n",
      "{'anime_id': 29, 'title': 'Monitored intermediate application', 'genre': ['Demon', 'Live Action', 'Tokusatsu'], 'status': 'Đang tiến hành', 'eposides': 160, 'realese_year': 2012, 'description': 'Giữa cũng người lớn như tôi. Các và đang. Cũng của người.\\nNhiều sau nơi chưa. Điều điều như và cũng chỉ. Bên với về là nhiều.\\nTại chưa số này có các theo đã. Chưa đúng làm. Và từ có.'}\n",
      "{'anime_id': 30, 'title': 'Focused scalable productivity', 'genre': ['Psychological', 'Tiên hiệp', 'Lịch sử'], 'status': 'Hoàn thành', 'eposides': 168, 'realese_year': 2015, 'description': 'Trong được sẽ chưa vậy tự mỗi. Vài nếu hoặc để được. Nơi của làm của lớn vài để.\\nĐiều gần vẫn hoặc. Nhiều sẽ với. Có gần hơn khiến mà.\\nCái vẫn đang được một khiến sẽ. Thế vậy trong có sau lớn hơn.'}\n"
     ]
    }
   ],
   "source": [
    "\n",
    "fake_anime = generate_fake_anime(30)\n",
    "\n",
    "for movie in fake_anime:\n",
    "    print(movie)"
   ]
  }
 ],
 "metadata": {
  "kernelspec": {
   "display_name": "Python 3",
   "language": "python",
   "name": "python3"
  },
  "language_info": {
   "codemirror_mode": {
    "name": "ipython",
    "version": 3
   },
   "file_extension": ".py",
   "mimetype": "text/x-python",
   "name": "python",
   "nbconvert_exporter": "python",
   "pygments_lexer": "ipython3",
   "version": "3.11.3"
  }
 },
 "nbformat": 4,
 "nbformat_minor": 2
}
